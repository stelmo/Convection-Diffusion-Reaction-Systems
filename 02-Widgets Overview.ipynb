{
 "metadata": {
  "language": "Julia",
  "name": "",
  "signature": "sha256:cd5221b3c7c31c9ae5be53c74504b6a00ffadb746f88b4e975a88d9fa7abe6b6"
 },
 "nbformat": 3,
 "nbformat_minor": 0,
 "worksheets": [
  {
   "cells": [
    {
     "cell_type": "heading",
     "level": 1,
     "metadata": {},
     "source": [
      "Widgets Overview"
     ]
    },
    {
     "cell_type": "markdown",
     "metadata": {},
     "source": [
      "The following is a run through of the widgets you can create with Interact. All widgets allow for the following keyword arguments:\n",
      "\n",
      "* `label`: Label to be shown next to the widget\n",
      "* `value`: The value the widget should be set to when created\n",
      "* `signal`: A signal object of type `Reactive.Input` which gets the value of the widget as user enters input.\n",
      "\n",
      "Many of the widgets have keyword arguments specific to them. See below for more."
     ]
    },
    {
     "cell_type": "code",
     "collapsed": false,
     "input": [
      "using Interact\n",
      "using Reactive"
     ],
     "language": "python",
     "metadata": {},
     "outputs": [],
     "prompt_number": 2
    },
    {
     "cell_type": "heading",
     "level": 2,
     "metadata": {},
     "source": [
      "Slider"
     ]
    },
    {
     "cell_type": "markdown",
     "metadata": {},
     "source": [
      "Sliders are arguably the most useful of the widgets. A slider can be created with the `slider{T <: Number}(range::Range{T})` function. The value of the slider defaults to the median of the range, and can be set using the `value::T` keyword argument. The type of signal a slider depends on the type of the range. E.g. A floating point range like `0:\u03c0/4:2\u03c0` gives a signal of floating point values, while a range like `1:10` gives a signal of integers."
     ]
    },
    {
     "cell_type": "code",
     "collapsed": false,
     "input": [
      "float_slider = slider(0:\u03c0/4:2\u03c0)"
     ],
     "language": "python",
     "metadata": {},
     "outputs": [
      {
       "html": [],
       "metadata": {},
       "output_type": "pyout",
       "prompt_number": 3,
       "text": [
        "Slider{Float64}([Input{Float64}] 3.141592653589793,\"\",3.141592653589793,0.0:0.7853981633974483:6.283185307179586)"
       ]
      }
     ],
     "prompt_number": 3
    },
    {
     "cell_type": "code",
     "collapsed": false,
     "input": [
      "int_slider = slider(1:10)"
     ],
     "language": "python",
     "metadata": {},
     "outputs": [
      {
       "html": [],
       "metadata": {},
       "output_type": "pyout",
       "prompt_number": 4,
       "text": [
        "Slider{Int64}([Input{Int64}] 5,\"\",5,1:10)"
       ]
      }
     ],
     "prompt_number": 4
    },
    {
     "cell_type": "heading",
     "level": 2,
     "metadata": {},
     "source": [
      "Checkbox"
     ]
    },
    {
     "cell_type": "markdown",
     "metadata": {},
     "source": [
      "`checkbox` takes an optional first argument which defaults to `false` and creates a checkbox."
     ]
    },
    {
     "cell_type": "code",
     "collapsed": false,
     "input": [
      "display(checkbox())\n",
      "checkbox(true)"
     ],
     "language": "python",
     "metadata": {},
     "outputs": [
      {
       "html": [],
       "metadata": {},
       "output_type": "display_data",
       "text": [
        "Checkbox([Input{Bool}] false,\"\",false)"
       ]
      },
      {
       "html": [],
       "metadata": {},
       "output_type": "pyout",
       "prompt_number": 5,
       "text": [
        "Checkbox([Input{Bool}] true,\"\",true)"
       ]
      }
     ],
     "prompt_number": 5
    },
    {
     "cell_type": "heading",
     "level": 2,
     "metadata": {},
     "source": [
      "Toggle"
     ]
    },
    {
     "cell_type": "markdown",
     "metadata": {},
     "source": [
      "You can create a toggle button with `togglebutton` which takes as an optional argument its label."
     ]
    },
    {
     "cell_type": "code",
     "collapsed": false,
     "input": [
      "status = togglebutton(\"Mary called\", value=true)"
     ],
     "language": "python",
     "metadata": {},
     "outputs": [
      {
       "html": [],
       "metadata": {},
       "output_type": "pyout",
       "prompt_number": 6,
       "text": [
        "ToggleButton([Input{Bool}] true,\"Mary called\",true)"
       ]
      }
     ],
     "prompt_number": 6
    },
    {
     "cell_type": "code",
     "collapsed": false,
     "input": [
      "lift(s -> s ? \"Mary called\" : \"Mary didn't call\", status)"
     ],
     "language": "python",
     "metadata": {},
     "outputs": [
      {
       "metadata": {
        "comm_id": "598a3e97-0e0c-448d-9146-3e046ad01996",
        "reactive": true
       },
       "output_type": "pyout",
       "prompt_number": 7,
       "text": [
        "\"Mary called\""
       ]
      }
     ],
     "prompt_number": 7
    },
    {
     "cell_type": "heading",
     "level": 2,
     "metadata": {},
     "source": [
      "Button"
     ]
    },
    {
     "cell_type": "markdown",
     "metadata": {},
     "source": [
      "A button gives out a signal of a constant signal which is `nothing` by default. You can set this using the `value` keyword argument. The signal updates when the button is clicked. "
     ]
    },
    {
     "cell_type": "code",
     "collapsed": false,
     "input": [
      "b = button(\"Click Me\")"
     ],
     "language": "python",
     "metadata": {},
     "outputs": [
      {
       "html": [],
       "metadata": {},
       "output_type": "pyout",
       "prompt_number": 8,
       "text": [
        "Button{Nothing}([Input{Nothing}] nothing,\"Click Me\",nothing)"
       ]
      }
     ],
     "prompt_number": 8
    },
    {
     "cell_type": "markdown",
     "metadata": {},
     "source": [
      "Here is how you can count the number of clicks made on a button using `foldl` on the signal:"
     ]
    },
    {
     "cell_type": "code",
     "collapsed": false,
     "input": [
      "foldl((acc, value) -> acc + 1, 0, signal(b))"
     ],
     "language": "python",
     "metadata": {},
     "outputs": [
      {
       "metadata": {
        "comm_id": "5ffb050f-d043-4c0d-b944-3e0ea38b1325",
        "reactive": true
       },
       "output_type": "pyout",
       "prompt_number": 9,
       "text": [
        "0"
       ]
      }
     ],
     "prompt_number": 9
    },
    {
     "cell_type": "heading",
     "level": 2,
     "metadata": {},
     "source": [
      "Option widgets"
     ]
    },
    {
     "cell_type": "markdown",
     "metadata": {},
     "source": [
      "There are 3 options widgets: `dropdown`, `togglebuttons`, `radiobuttons`. There are two types allowed as an argument while invoking these:\n",
      "1. `AbstractArray` (e.g. `Vector`, `Tuple`)\n",
      "2. `Associative` (e.g. `Dict`, `OrderedDict`)\n",
      "The default value is the first element (or undefined in case of an undordered `Associative` like `Dict`), but this can be set using the `value` keyword argument."
     ]
    },
    {
     "cell_type": "code",
     "collapsed": false,
     "input": [
      "a = dropdown([\"one\", \"two\", \"three\"])"
     ],
     "language": "python",
     "metadata": {},
     "outputs": [
      {
       "html": [],
       "metadata": {},
       "output_type": "pyout",
       "prompt_number": 10,
       "text": [
        "Options{:Dropdown,ASCIIString}([Input{ASCIIString}] one,\"\",\"one\",\"one\",[\"one\"=>\"one\",\"two\"=>\"two\",\"three\"=>\"three\"])"
       ]
      }
     ],
     "prompt_number": 10
    },
    {
     "cell_type": "code",
     "collapsed": false,
     "input": [
      "signal(a)"
     ],
     "language": "python",
     "metadata": {},
     "outputs": [
      {
       "metadata": {
        "comm_id": "1f7b00c9-0c8c-49c5-b047-f0c41b30788e",
        "reactive": true
       },
       "output_type": "pyout",
       "prompt_number": 11,
       "text": [
        "\"one\""
       ]
      }
     ],
     "prompt_number": 11
    },
    {
     "cell_type": "code",
     "collapsed": false,
     "input": [
      "f = radiobuttons([\"Add\" => +, \"Sub\" => -, \"Exp\" => ^])"
     ],
     "language": "python",
     "metadata": {},
     "outputs": [
      {
       "html": [],
       "metadata": {},
       "output_type": "pyout",
       "prompt_number": 12,
       "text": [
        "Options{:RadioButtons,Function}([Input{Function}] -,\"\",-,\"Sub\",[\"Sub\"=>-,\"Add\"=>+,\"Exp\"=>^])"
       ]
      }
     ],
     "prompt_number": 12
    },
    {
     "cell_type": "code",
     "collapsed": false,
     "input": [
      "@lift f(e, \u03c0*im)"
     ],
     "language": "python",
     "metadata": {},
     "outputs": [
      {
       "metadata": {
        "comm_id": "3ee9bb41-f80e-41b8-b7a5-ed66aae2f57a",
        "reactive": true
       },
       "output_type": "pyout",
       "prompt_number": 13,
       "text": [
        "2.718281828459045 - 3.141592653589793im"
       ]
      }
     ],
     "prompt_number": 13
    },
    {
     "cell_type": "markdown",
     "metadata": {},
     "source": [
      "Notice that the order \"Add\", \"Sub\", \"Exp\" was not retained in the above example, because a `Dict` does not save the ordering. To overcome this, we can use `OrderedDict` from DataStructures.jl package."
     ]
    },
    {
     "cell_type": "code",
     "collapsed": false,
     "input": [
      "using DataStructures\n",
      "f_ = togglebuttons(OrderedDict([\"Add\", \"Sub\", \"Exp\"], [+, -, ^]))"
     ],
     "language": "python",
     "metadata": {},
     "outputs": [
      {
       "html": [],
       "metadata": {},
       "output_type": "pyout",
       "prompt_number": 14,
       "text": [
        "Options{:ToggleButtons,Function}([Input{Function}] +,\"\",+,\"Add\",[\"Add\"=>+,\"Sub\"=>-,\"Exp\"=>^])"
       ]
      }
     ],
     "prompt_number": 14
    },
    {
     "cell_type": "heading",
     "level": 2,
     "metadata": {},
     "source": [
      "Textbox"
     ]
    },
    {
     "cell_type": "markdown",
     "metadata": {},
     "source": [
      "A textbox can be of a `Number` or `String` type. `textbox` takes one argument: its default value."
     ]
    },
    {
     "cell_type": "code",
     "collapsed": false,
     "input": [
      "string_box = textbox(\"Change me\")"
     ],
     "language": "python",
     "metadata": {},
     "outputs": [
      {
       "html": [],
       "metadata": {},
       "output_type": "pyout",
       "prompt_number": 15,
       "text": [
        "Textbox{ASCIIString}([Input{ASCIIString}] Change me,\"\",nothing,\"Change me\")"
       ]
      }
     ],
     "prompt_number": 15
    },
    {
     "cell_type": "code",
     "collapsed": false,
     "input": [
      "signal(string_box)"
     ],
     "language": "python",
     "metadata": {},
     "outputs": [
      {
       "metadata": {
        "comm_id": "a0828772-1166-4a2c-8791-d8555ab3ddfc",
        "reactive": true
       },
       "output_type": "pyout",
       "prompt_number": 16,
       "text": [
        "\"Change me\""
       ]
      }
     ],
     "prompt_number": 16
    },
    {
     "cell_type": "markdown",
     "metadata": {},
     "source": [
      "A textbox can be of a `Number` type as well. Just set a default number value, or use `textbox(typ=T)` where T is a `Number` type."
     ]
    },
    {
     "cell_type": "code",
     "collapsed": false,
     "input": [
      "int_box = textbox(0)"
     ],
     "language": "python",
     "metadata": {},
     "outputs": [
      {
       "html": [],
       "metadata": {},
       "output_type": "pyout",
       "prompt_number": 17,
       "text": [
        "Textbox{Int64}([Input{Int64}] 0,\"\",nothing,0)"
       ]
      }
     ],
     "prompt_number": 17
    },
    {
     "cell_type": "code",
     "collapsed": false,
     "input": [
      "signal(int_box)"
     ],
     "language": "python",
     "metadata": {},
     "outputs": [
      {
       "metadata": {
        "comm_id": "1958ae31-6464-4448-8b60-152e29aee87d",
        "reactive": true
       },
       "output_type": "pyout",
       "prompt_number": 18,
       "text": [
        "0"
       ]
      }
     ],
     "prompt_number": 18
    },
    {
     "cell_type": "markdown",
     "metadata": {},
     "source": [
      "If creating a number typed textbox, you can also pass along an optional `range` field to set a bound on the possible values one can input. If an entered value exceeds the range, it is replaced by its nearest bounding number."
     ]
    },
    {
     "cell_type": "code",
     "collapsed": false,
     "input": [
      "bounded_float_box = textbox(2pi, range=-10.0:10)"
     ],
     "language": "python",
     "metadata": {},
     "outputs": [
      {
       "html": [],
       "metadata": {},
       "output_type": "pyout",
       "prompt_number": 19,
       "text": [
        "Textbox{Float64}([Input{Float64}] 6.283185307179586,\"\",-10.0:1.0:10.0,6.283185307179586)"
       ]
      }
     ],
     "prompt_number": 19
    },
    {
     "cell_type": "code",
     "collapsed": false,
     "input": [
      "signal(bounded_float_box)"
     ],
     "language": "python",
     "metadata": {},
     "outputs": [
      {
       "metadata": {
        "comm_id": "bdb3ef31-7b91-4339-a59f-c2a04746142f",
        "reactive": true
       },
       "output_type": "pyout",
       "prompt_number": 20,
       "text": [
        "6.283185307179586"
       ]
      }
     ],
     "prompt_number": 20
    },
    {
     "cell_type": "heading",
     "level": 2,
     "metadata": {},
     "source": [
      "Textarea"
     ]
    },
    {
     "cell_type": "markdown",
     "metadata": {},
     "source": [
      "`textarea` takes an optional default value and creates a textarea. Its signal changes when you type."
     ]
    },
    {
     "cell_type": "code",
     "collapsed": false,
     "input": [
      "tex = textarea(\"Your very own \\$\\\\LaTeX\\$ editor\")"
     ],
     "language": "python",
     "metadata": {},
     "outputs": [
      {
       "html": [],
       "metadata": {},
       "output_type": "pyout",
       "prompt_number": 21,
       "text": [
        "Textarea{ASCIIString}([Input{ASCIIString}] Your very own $\\LaTeX$ editor,\"\",\"Your very own \\$\\\\LaTeX\\$ editor\")"
       ]
      }
     ],
     "prompt_number": 21
    },
    {
     "cell_type": "code",
     "collapsed": false,
     "input": [
      "@lift latex(tex)"
     ],
     "language": "python",
     "metadata": {},
     "outputs": [
      {
       "html": [],
       "metadata": {},
       "output_type": "pyout",
       "prompt_number": 22,
       "text": [
        "Latex(\"\",\"Your very own \\$\\\\LaTeX\\$ editor\")"
       ]
      }
     ],
     "prompt_number": 22
    },
    {
     "cell_type": "heading",
     "level": 2,
     "metadata": {},
     "source": [
      "The `widget` Function"
     ]
    },
    {
     "cell_type": "markdown",
     "metadata": {},
     "source": [
      "`widget` tries to coerce a value into a widget."
     ]
    },
    {
     "cell_type": "code",
     "collapsed": false,
     "input": [
      "map(display, [\n",
      "    widget(1:10),                 # Slider\n",
      "    widget(false),                # Checkbox\n",
      "    widget(\"text\"),               # Textbox\n",
      "    widget(1.1),                  # Number Textbox\n",
      "    widget([:on, :off]),          # Toggle Buttons\n",
      "    widget([:\u03c0 => float(\u03c0), :\u03c4 => 2\u03c0])\n",
      "    ]);"
     ],
     "language": "python",
     "metadata": {},
     "outputs": [
      {
       "html": [],
       "metadata": {},
       "output_type": "display_data",
       "text": [
        "Slider{Int64}([Input{Int64}] 5,\"\",5,1:10)"
       ]
      },
      {
       "html": [],
       "metadata": {},
       "output_type": "display_data",
       "text": [
        "Checkbox([Input{Bool}] false,\"\",false)"
       ]
      },
      {
       "html": [],
       "metadata": {},
       "output_type": "display_data",
       "text": [
        "Textbox{ASCIIString}([Input{ASCIIString}] text,\"\",nothing,\"text\")"
       ]
      },
      {
       "html": [],
       "metadata": {},
       "output_type": "display_data",
       "text": [
        "Textbox{Float64}([Input{Float64}] 1.1,\"\",nothing,1.1)"
       ]
      },
      {
       "html": [],
       "metadata": {},
       "output_type": "display_data",
       "text": [
        "Options{:ToggleButtons,Symbol}([Input{Symbol}] on,\"\",:on,\"on\",[\"on\"=>:on,\"off\"=>:off])"
       ]
      },
      {
       "html": [],
       "metadata": {},
       "output_type": "display_data",
       "text": [
        "Options{:ToggleButtons,Float64}([Input{Float64}] 6.283185307179586,\"\",6.283185307179586,\"\u03c4\",[\"\u03c4\"=>6.283185307179586,\"\u03c0\"=>3.141592653589793])"
       ]
      }
     ],
     "prompt_number": 23
    }
   ],
   "metadata": {}
  }
 ]
}